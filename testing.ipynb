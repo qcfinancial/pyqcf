{
 "cells": [
  {
   "cell_type": "markdown",
   "source": [
    "# Testing"
   ],
   "metadata": {
    "collapsed": false
   },
   "id": "acb9c57da301ffdb"
  },
  {
   "cell_type": "code",
   "outputs": [],
   "source": [
    "import venv\n",
    "\n",
    "import qcfinancial as qcf\n",
    "\n",
    "from pyqcf import dto_factory as dto, wrappers as qcw"
   ],
   "metadata": {
    "collapsed": false,
    "ExecuteTime": {
     "end_time": "2024-01-07T13:36:57.067349Z",
     "start_time": "2024-01-07T13:36:57.063689Z"
    }
   },
   "id": "93033c01951c60cf",
   "execution_count": 14
  },
  {
   "cell_type": "code",
   "outputs": [],
   "source": [
    "fecha_proceso = qcw.Fecha(fecha='2023-09-28')"
   ],
   "metadata": {
    "collapsed": false,
    "ExecuteTime": {
     "end_time": "2024-01-07T13:32:29.508773Z",
     "start_time": "2024-01-07T13:32:29.501982Z"
    }
   },
   "id": "cbc03ce086cb0b78",
   "execution_count": 2
  },
  {
   "cell_type": "code",
   "outputs": [],
   "source": [
    "data = dto.get_operations_for_date(fecha_proceso.as_py_date())"
   ],
   "metadata": {
    "collapsed": false,
    "ExecuteTime": {
     "end_time": "2024-01-07T15:05:27.436046Z",
     "start_time": "2024-01-07T15:05:25.563244Z"
    }
   },
   "id": "c4abc56a30db66ee",
   "execution_count": 23
  },
  {
   "cell_type": "code",
   "outputs": [
    {
     "data": {
      "text/plain": "[{'_id': '659abae7418b686e1f011642',\n  'trade_date': '2023-09-28',\n  'deal_number': '1212',\n  'counterparty_name': 'BANCO SANTANDER-CHILE',\n  'counterparty_rut': {'rut': 97036000, 'dv': 'K'},\n  'portfolio': 'BCO_TRADING_RESULTADO',\n  'hedge_accounting': 'IRSWAP',\n  'product': 'IRSWAP',\n  'currency_pair': 'USDUSD',\n  'settlement_mechanism': 'C',\n  'legs': [{'type_of_leg': 'FIXED_RATE',\n    'leg_number': 1,\n    'rp': 'A',\n    'start_date': '2023-08-14',\n    'end_date': '2023-11-13',\n    'maturity': {'agnos': 0, 'meses': 2, 'dias': 30},\n    'bus_adj_rule': 'MOD_FOLLOW',\n    'periodicity': {'agnos': 0, 'meses': 3, 'dias': 0},\n    'stub_period': 'CORTO INICIO',\n    'settlement_calendar': 'SCL',\n    'settlement_lag': 0,\n    'type_of_amortization': 'BULLET',\n    'amort_is_cashflow': False,\n    'coupon_rate_value': 0.02793,\n    'coupon_rate_type': 'LIN_ACT/360',\n    'notional_currency': 'USD',\n    'is_bond': False,\n    'initial_notional': 5000000.0},\n   {'type_of_leg': 'OVERNIGHT_INDEX',\n    'leg_number': 2,\n    'rp': 'P',\n    'start_date': '2023-08-14',\n    'end_date': '2023-11-13',\n    'maturity': {'agnos': 0, 'meses': 2, 'dias': 30},\n    'bus_adj_rule': 'MOD_FOLLOW',\n    'fix_adj_rule': 'MOD_FOLLOW',\n    'settlement_periodicity': {'agnos': 0, 'meses': 3, 'dias': 0},\n    'settlement_stub_period': 'CORTO INICIO',\n    'settlement_calendar': 'SCL',\n    'settlement_lag': 0,\n    'fixing_calendar': 'LONDON',\n    'type_of_amortization': 'BULLET',\n    'overnight_index_name': 'USD.SOFR.1D',\n    'interest_rate': 'LIN_ACT/360',\n    'eq_rate_decimal_places': 4,\n    'amort_is_cashflow': False,\n    'notional_currency': 'USD',\n    'spread': 0.0026161,\n    'gearing': 1.0,\n    'initial_notional': 5000000.0}]}]"
     },
     "execution_count": 24,
     "metadata": {},
     "output_type": "execute_result"
    }
   ],
   "source": [
    "[op for op in data if op['deal_number']=='1212']"
   ],
   "metadata": {
    "collapsed": false,
    "ExecuteTime": {
     "end_time": "2024-01-07T15:05:29.438859Z",
     "start_time": "2024-01-07T15:05:29.421508Z"
    }
   },
   "id": "c9de6df6fff7cda2",
   "execution_count": 24
  },
  {
   "cell_type": "code",
   "outputs": [],
   "source": [
    "ops = dto.DerivativePortfolio(fecha_proceso.as_py_date())"
   ],
   "metadata": {
    "collapsed": false,
    "ExecuteTime": {
     "end_time": "2024-01-07T15:05:33.840636Z",
     "start_time": "2024-01-07T15:05:32.165931Z"
    }
   },
   "id": "3dc040391a6599ab",
   "execution_count": 25
  },
  {
   "cell_type": "code",
   "outputs": [],
   "source": [
    "all_calendars = {\n",
    "    'SCL': qcf.BusinessCalendar(fecha_proceso.as_qcf(), 1),\n",
    "    'NY': qcf.BusinessCalendar(fecha_proceso.as_qcf(), 1),\n",
    "    'LONDON': qcf.BusinessCalendar(fecha_proceso.as_qcf(), 1),\n",
    "}"
   ],
   "metadata": {
    "collapsed": false,
    "ExecuteTime": {
     "end_time": "2024-01-07T15:05:39.532938Z",
     "start_time": "2024-01-07T15:05:39.526004Z"
    }
   },
   "id": "6ac7f5ffa422c88",
   "execution_count": 26
  },
  {
   "cell_type": "code",
   "outputs": [
    {
     "data": {
      "text/plain": "<qcfinancial.Leg at 0x12c366bf0>"
     },
     "execution_count": 27,
     "metadata": {},
     "output_type": "execute_result"
    }
   ],
   "source": [
    "ops.get_deal_number('1212').legs[1].qcf_leg(all_calendars)"
   ],
   "metadata": {
    "collapsed": false,
    "ExecuteTime": {
     "end_time": "2024-01-07T15:05:40.621545Z",
     "start_time": "2024-01-07T15:05:40.603781Z"
    }
   },
   "id": "ce04a26b6cc15fc0",
   "execution_count": 27
  },
  {
   "cell_type": "code",
   "outputs": [],
   "source": [
    "ops_ok = ops.get_all_deal_numbers()"
   ],
   "metadata": {
    "collapsed": false,
    "ExecuteTime": {
     "end_time": "2024-01-07T15:05:43.211903Z",
     "start_time": "2024-01-07T15:05:41.887277Z"
    }
   },
   "id": "e937c2a36fcf7bf8",
   "execution_count": 28
  },
  {
   "cell_type": "code",
   "outputs": [
    {
     "data": {
      "text/plain": "[FixedRateLegModel(type_of_leg=FIXED_RATE, leg_number=1, leg_generator=FixedRateLegGenerator(rp=<AP.A: 'A'>, start_date=Fecha(fecha='2023-06-15'), end_date=Fecha(fecha='2025-06-16'), maturity=Tenor(agnos=2, meses=0, dias=1), bus_adj_rule=<BusAdjRules.MOD_FOLLOW: 'MOD_FOLLOW'>, periodicity=Tenor(agnos=0, meses=6, dias=0), stub_period=<StubPeriods.CORTO_INICIO: 'CORTO INICIO'>, settlement_calendar='SCL', settlement_lag=0, type_of_amortization=<TypeOfAmortization.CUSTOM: 'CUSTOM'>, notional_or_custom=CustomNotionalAmort(custom_notional_amort=[(83777.0, 20944.25), (62832.75, 20944.25), (41888.5, 20944.25), (20944.25, 20944.25)]), amort_is_cashflow=True, coupon_rate_value=0.0079, coupon_rate_type=LIN_ACT/360, notional_currency=USD, is_bond=False)),\n IborLegModel(type_of_leg=IBOR, leg_number=2, leg_generator=IborLegGenerator(rp=<AP.P: 'P'>, start_date=Fecha(fecha='2023-06-15'), end_date=Fecha(fecha='2025-06-16'), maturity=Tenor(agnos=2, meses=0, dias=1), bus_adj_rule=<BusAdjRules.MOD_FOLLOW: 'MOD_FOLLOW'>, settlement_periodicity=Tenor(agnos=0, meses=6, dias=0), settlement_stub_period=<StubPeriods.CORTO_INICIO: 'CORTO INICIO'>, settlement_calendar='SCL', settlement_lag=0, type_of_amortization=<TypeOfAmortization.CUSTOM: 'CUSTOM'>, fixing_periodicity=Tenor(agnos=0, meses=6, dias=0), fixing_stub_period=<StubPeriods.CORTO_INICIO: 'CORTO INICIO'>, fixing_calendar='LONDON', fixing_lag=2, interest_rate_index_name='USD.LIBOR.6M', notional_or_custom=CustomNotionalAmort(custom_notional_amort=[(83777.0, 20944.25), (62832.75, 20944.25), (41888.5, 20944.25), (20944.25, 20944.25)]), amort_is_cashflow=True, notional_currency=USD, spread=0.0, gearing=1.0))]"
     },
     "execution_count": 29,
     "metadata": {},
     "output_type": "execute_result"
    }
   ],
   "source": [
    "ops_ok['1830'].legs"
   ],
   "metadata": {
    "collapsed": false,
    "ExecuteTime": {
     "end_time": "2024-01-07T15:05:45.757913Z",
     "start_time": "2024-01-07T15:05:45.751870Z"
    }
   },
   "id": "328bed6f5fde1b7f",
   "execution_count": 29
  },
  {
   "cell_type": "code",
   "outputs": [],
   "source": [
    "single_leg = [v.deal_number for v in ops_ok.values() if len(v.legs) == 1]"
   ],
   "metadata": {
    "collapsed": false,
    "ExecuteTime": {
     "end_time": "2024-01-07T15:05:56.707571Z",
     "start_time": "2024-01-07T15:05:56.702542Z"
    }
   },
   "id": "74f5775c28477e3d",
   "execution_count": 30
  },
  {
   "cell_type": "code",
   "outputs": [
    {
     "data": {
      "text/plain": "[]"
     },
     "execution_count": 31,
     "metadata": {},
     "output_type": "execute_result"
    }
   ],
   "source": [
    "single_leg"
   ],
   "metadata": {
    "collapsed": false,
    "ExecuteTime": {
     "end_time": "2024-01-07T15:05:57.839735Z",
     "start_time": "2024-01-07T15:05:57.833554Z"
    }
   },
   "id": "a17d55a3a852d5b5",
   "execution_count": 31
  }
 ],
 "metadata": {
  "kernelspec": {
   "display_name": "Python 3",
   "language": "python",
   "name": "python3"
  },
  "language_info": {
   "codemirror_mode": {
    "name": "ipython",
    "version": 2
   },
   "file_extension": ".py",
   "mimetype": "text/x-python",
   "name": "python",
   "nbconvert_exporter": "python",
   "pygments_lexer": "ipython2",
   "version": "2.7.6"
  }
 },
 "nbformat": 4,
 "nbformat_minor": 5
}
