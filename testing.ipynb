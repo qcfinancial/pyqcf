{
 "cells": [
  {
   "cell_type": "markdown",
   "source": [
    "# Testing"
   ],
   "metadata": {
    "collapsed": false
   },
   "id": "acb9c57da301ffdb"
  },
  {
   "cell_type": "code",
   "outputs": [],
   "source": [
    "import qcfinancial as qcf\n",
    "from pyqcf import dto_factory as dto, wrappers as qcw"
   ],
   "metadata": {
    "collapsed": false,
    "ExecuteTime": {
     "end_time": "2024-01-07T16:27:17.655179Z",
     "start_time": "2024-01-07T16:27:16.569034Z"
    }
   },
   "id": "93033c01951c60cf",
   "execution_count": 1
  },
  {
   "cell_type": "code",
   "outputs": [],
   "source": [
    "fecha_proceso = qcw.Fecha(fecha='2023-09-28')"
   ],
   "metadata": {
    "collapsed": false,
    "ExecuteTime": {
     "end_time": "2024-01-07T16:27:23.341594Z",
     "start_time": "2024-01-07T16:27:23.336620Z"
    }
   },
   "id": "cbc03ce086cb0b78",
   "execution_count": 2
  },
  {
   "cell_type": "code",
   "outputs": [],
   "source": [
    "data = dto.get_operations_for_date(fecha_proceso.as_py_date())"
   ],
   "metadata": {
    "collapsed": false,
    "ExecuteTime": {
     "end_time": "2024-01-07T16:27:26.539205Z",
     "start_time": "2024-01-07T16:27:23.957478Z"
    }
   },
   "id": "c4abc56a30db66ee",
   "execution_count": 3
  },
  {
   "cell_type": "code",
   "outputs": [],
   "source": [
    "[op for op in data if op['deal_number']=='1212']"
   ],
   "metadata": {
    "collapsed": false
   },
   "id": "c9de6df6fff7cda2",
   "execution_count": null
  },
  {
   "cell_type": "code",
   "outputs": [],
   "source": [
    "ops = dto.DerivativePortfolio(fecha_proceso.as_py_date())"
   ],
   "metadata": {
    "collapsed": false
   },
   "id": "3dc040391a6599ab",
   "execution_count": null
  },
  {
   "cell_type": "code",
   "outputs": [],
   "source": [
    "all_calendars = {\n",
    "    'SCL': qcf.BusinessCalendar(fecha_proceso.as_qcf(), 1),\n",
    "    'NY': qcf.BusinessCalendar(fecha_proceso.as_qcf(), 1),\n",
    "    'LONDON': qcf.BusinessCalendar(fecha_proceso.as_qcf(), 1),\n",
    "}"
   ],
   "metadata": {
    "collapsed": false
   },
   "id": "6ac7f5ffa422c88",
   "execution_count": null
  },
  {
   "cell_type": "code",
   "outputs": [],
   "source": [
    "ops.get_deal_number('1212').legs[1].qcf_leg(all_calendars)"
   ],
   "metadata": {
    "collapsed": false
   },
   "id": "ce04a26b6cc15fc0",
   "execution_count": null
  },
  {
   "cell_type": "code",
   "outputs": [],
   "source": [
    "ops_ok = ops.get_all_deal_numbers()"
   ],
   "metadata": {
    "collapsed": false
   },
   "id": "e937c2a36fcf7bf8",
   "execution_count": null
  },
  {
   "cell_type": "code",
   "outputs": [],
   "source": [
    "ops_ok['1830'].legs"
   ],
   "metadata": {
    "collapsed": false
   },
   "id": "328bed6f5fde1b7f",
   "execution_count": null
  },
  {
   "cell_type": "code",
   "outputs": [],
   "source": [
    "single_leg = [v.deal_number for v in ops_ok.values() if len(v.legs) == 1]"
   ],
   "metadata": {
    "collapsed": false
   },
   "id": "74f5775c28477e3d",
   "execution_count": null
  },
  {
   "cell_type": "code",
   "outputs": [],
   "source": [
    "single_leg"
   ],
   "metadata": {
    "collapsed": false
   },
   "id": "a17d55a3a852d5b5",
   "execution_count": null
  }
 ],
 "metadata": {
  "kernelspec": {
   "display_name": "Python 3",
   "language": "python",
   "name": "python3"
  },
  "language_info": {
   "codemirror_mode": {
    "name": "ipython",
    "version": 2
   },
   "file_extension": ".py",
   "mimetype": "text/x-python",
   "name": "python",
   "nbconvert_exporter": "python",
   "pygments_lexer": "ipython2",
   "version": "2.7.6"
  }
 },
 "nbformat": 4,
 "nbformat_minor": 5
}
